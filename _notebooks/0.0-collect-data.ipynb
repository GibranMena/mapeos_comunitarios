{
 "cells": [
  {
   "cell_type": "code",
   "execution_count": 2,
   "id": "464e389e",
   "metadata": {},
   "outputs": [],
   "source": [
    "#Pulling libraries\n",
    "\n",
    "from koboextractor import KoboExtractor\n",
    "import pandas as pd\n",
    "\n",
    "\n"
   ]
  },
  {
   "cell_type": "code",
   "execution_count": 7,
   "id": "7078799e",
   "metadata": {},
   "outputs": [
    {
     "name": "stdout",
     "output_type": "stream",
     "text": [
      "Working directory set to: /Users/allegratuvida/Desktop/escritorio/data_critica_2025/Proyectos en desarrollo/Mapeos comunitarios/mapeos_comunitarios\n"
     ]
    }
   ],
   "source": [
    "#Fixing absolute and relative paths for folders and notebooks\n",
    "\n",
    "import os\n",
    "from pathlib import Path\n",
    "\n",
    "if Path.cwd().name == '_notebooks':\n",
    "    os.chdir('..')  # Go to project root\n",
    "elif not (Path.cwd() / '__notebooks').exists():\n",
    "    # Find and change to project root\n",
    "    for parent in Path.cwd().parents:\n",
    "        if (parent / 'notebooks').exists():\n",
    "            os.chdir(parent)\n",
    "            break\n",
    "\n",
    "print(f\"Working directory set to: {Path.cwd()}\")"
   ]
  },
  {
   "cell_type": "code",
   "execution_count": 8,
   "id": "31e48cd2",
   "metadata": {},
   "outputs": [],
   "source": [
    "# Harvesting data from KoboToolbox\n",
    "\n",
    "from koboextractor import KoboExtractor\n",
    "import pandas as pd"
   ]
  }
 ],
 "metadata": {
  "kernelspec": {
   "display_name": "mapeos-comunitarios-py3.11",
   "language": "python",
   "name": "python3"
  },
  "language_info": {
   "codemirror_mode": {
    "name": "ipython",
    "version": 3
   },
   "file_extension": ".py",
   "mimetype": "text/x-python",
   "name": "python",
   "nbconvert_exporter": "python",
   "pygments_lexer": "ipython3",
   "version": "3.11.13"
  }
 },
 "nbformat": 4,
 "nbformat_minor": 5
}
