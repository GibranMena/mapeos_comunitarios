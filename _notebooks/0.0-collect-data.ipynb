{
 "cells": [
  {
   "cell_type": "code",
   "execution_count": 2,
   "id": "464e389e",
   "metadata": {},
   "outputs": [],
   "source": [
    "#Pulling libraries\n",
    "\n",
    "from koboextractor import KoboExtractor\n",
    "import pandas as pd\n",
    "\n",
    "\n"
   ]
  },
  {
   "cell_type": "code",
   "execution_count": 7,
   "id": "7078799e",
   "metadata": {},
   "outputs": [
    {
     "name": "stdout",
     "output_type": "stream",
     "text": [
      "Working directory set to: /Users/allegratuvida/Desktop/escritorio/data_critica_2025/Proyectos en desarrollo/Mapeos comunitarios/mapeos_comunitarios\n"
     ]
    }
   ],
   "source": [
    "#Fixing absolute and relative paths for folders and notebooks\n",
    "\n",
    "import os\n",
    "from pathlib import Path\n",
    "\n",
    "if Path.cwd().name == '_notebooks':\n",
    "    os.chdir('..')  # Go to project root\n",
    "elif not (Path.cwd() / '__notebooks').exists():\n",
    "    # Find and change to project root\n",
    "    for parent in Path.cwd().parents:\n",
    "        if (parent / 'notebooks').exists():\n",
    "            os.chdir(parent)\n",
    "            break\n",
    "\n",
    "print(f\"Working directory set to: {Path.cwd()}\")"
   ]
  },
  {
   "cell_type": "code",
   "execution_count": 13,
   "id": "3113a892",
   "metadata": {},
   "outputs": [],
   "source": [
    "# Setting up additional libraries\n",
    "\n",
    "import os\n",
    "import requests\n",
    "import pandas as pd\n",
    "from urllib.parse import urljoin\n"
   ]
  },
  {
   "cell_type": "code",
   "execution_count": 19,
   "id": "5687ae7a",
   "metadata": {},
   "outputs": [],
   "source": [
    "# Storing API data in classes\n",
    "\n",
    "class SecureKoboClient:\n",
    "    def __init__(self, server_url: str = None, token: str = None):\n",
    "        # Get the base server URL and API token.\n",
    "        self.server_url = server_url or os.getenv('KOBO_URL', 'https://eu.kobotoolbox.org')\n",
    "        self.token = token or os.getenv('KOBO_TOKEN')\n",
    "\n",
    "        # If no token is set, stop and warn the user.\n",
    "        if not self.token:\n",
    "            raise ValueError(\"API token must be provided via KOBO_TOKEN environment variable\")\n",
    "\n",
    "        # Create the full API URL.\n",
    "        self.base_url = urljoin(self.server_url, 'api/v2/')\n",
    "\n",
    "        # Prepare headers to prove our identity to KoBo's server.\n",
    "        self.headers = {\n",
    "            'Authorization': f'Token {self.token}',\n",
    "            'Accept': 'application/json',\n",
    "            'Content-Type': 'application/json'\n",
    "        }\n",
    "\n",
    "        # Make sure token works by verifying with KoBo.\n",
    "        self._validate_auth()\n"
   ]
  },
  {
   "cell_type": "code",
   "execution_count": 20,
   "id": "937d864a",
   "metadata": {},
   "outputs": [],
   "source": [
    "# Checking out our credentials\n",
    "\n",
    "def _validate_auth(self) -> None:\n",
    "    # Ask KoBo's API who we're logged in as.\n",
    "    response = requests.get(\n",
    "        urljoin(self.base_url, 'me/'),\n",
    "        headers=self.headers,\n",
    "        timeout=30\n",
    "    )\n",
    "    response.raise_for_status()\n",
    "    user_info = response.json()\n",
    "    print(f\"Authenticated as: {user_info.get('username')}\")\n"
   ]
  },
  {
   "cell_type": "code",
   "execution_count": 22,
   "id": "7e0c8dda",
   "metadata": {},
   "outputs": [
    {
     "ename": "AttributeError",
     "evalue": "'SecureKoboClient' object has no attribute '_validate_auth'",
     "output_type": "error",
     "traceback": [
      "\u001b[31m---------------------------------------------------------------------------\u001b[39m",
      "\u001b[31mAttributeError\u001b[39m                            Traceback (most recent call last)",
      "\u001b[36mCell\u001b[39m\u001b[36m \u001b[39m\u001b[32mIn[22]\u001b[39m\u001b[32m, line 8\u001b[39m\n\u001b[32m      5\u001b[39m load_dotenv()\n\u001b[32m      7\u001b[39m \u001b[38;5;66;03m# Now this will work!\u001b[39;00m\n\u001b[32m----> \u001b[39m\u001b[32m8\u001b[39m client = \u001b[43mSecureKoboClient\u001b[49m\u001b[43m(\u001b[49m\u001b[43m)\u001b[49m\n",
      "\u001b[36mCell\u001b[39m\u001b[36m \u001b[39m\u001b[32mIn[19]\u001b[39m\u001b[32m, line 24\u001b[39m, in \u001b[36mSecureKoboClient.__init__\u001b[39m\u001b[34m(self, server_url, token)\u001b[39m\n\u001b[32m     17\u001b[39m \u001b[38;5;28mself\u001b[39m.headers = {\n\u001b[32m     18\u001b[39m     \u001b[33m'\u001b[39m\u001b[33mAuthorization\u001b[39m\u001b[33m'\u001b[39m: \u001b[33mf\u001b[39m\u001b[33m'\u001b[39m\u001b[33mToken \u001b[39m\u001b[38;5;132;01m{\u001b[39;00m\u001b[38;5;28mself\u001b[39m.token\u001b[38;5;132;01m}\u001b[39;00m\u001b[33m'\u001b[39m,\n\u001b[32m     19\u001b[39m     \u001b[33m'\u001b[39m\u001b[33mAccept\u001b[39m\u001b[33m'\u001b[39m: \u001b[33m'\u001b[39m\u001b[33mapplication/json\u001b[39m\u001b[33m'\u001b[39m,\n\u001b[32m     20\u001b[39m     \u001b[33m'\u001b[39m\u001b[33mContent-Type\u001b[39m\u001b[33m'\u001b[39m: \u001b[33m'\u001b[39m\u001b[33mapplication/json\u001b[39m\u001b[33m'\u001b[39m\n\u001b[32m     21\u001b[39m }\n\u001b[32m     23\u001b[39m \u001b[38;5;66;03m# Make sure token works by verifying with KoBo.\u001b[39;00m\n\u001b[32m---> \u001b[39m\u001b[32m24\u001b[39m \u001b[38;5;28;43mself\u001b[39;49m\u001b[43m.\u001b[49m\u001b[43m_validate_auth\u001b[49m()\n",
      "\u001b[31mAttributeError\u001b[39m: 'SecureKoboClient' object has no attribute '_validate_auth'"
     ]
    }
   ],
   "source": [
    "from dotenv import load_dotenv\n",
    "import os\n",
    "\n",
    "# Load the .env file\n",
    "load_dotenv()\n",
    "\n",
    "# Now this will work!\n",
    "client = SecureKoboClient()"
   ]
  },
  {
   "cell_type": "code",
   "execution_count": 16,
   "id": "12e1464a",
   "metadata": {},
   "outputs": [
    {
     "name": "stdout",
     "output_type": "stream",
     "text": [
      "Token found: True\n",
      "Token length: 40\n"
     ]
    }
   ],
   "source": [
    "token = os.getenv('KOBO_TOKEN')\n",
    "print(f\"Token found: {bool(token)}\")\n",
    "print(f\"Token length: {len(token) if token else 0}\")"
   ]
  },
  {
   "cell_type": "code",
   "execution_count": 17,
   "id": "ac21ef4b",
   "metadata": {},
   "outputs": [
    {
     "name": "stdout",
     "output_type": "stream",
     "text": [
      "🔍 Testing KoBo API Setup...\n",
      "✓ Server URL: https://eu.kobotoolbox.org\n",
      "✓ Token present: Yes\n",
      "✓ API Response: 404\n",
      "❌ Failed: \n",
      "\n",
      "\n",
      "<!doctype html>\n",
      "<html>\n",
      "  <head>\n",
      "    <!-- Setup -->\n",
      "    <meta charset=\"utf-8\">\n",
      "    <meta http-equiv=\"X-UA-Compatible\" content=\"IE=edge,chrome=1\">\n",
      "    <meta name=\"viewport\" content=\"width=device-width, initial-scale=1\">\n",
      "    \n",
      "      <meta name=\"google-analytics-token\" content=\"G-1QZ9G71E3K\">\n",
      "    \n",
      "    \n",
      "\n",
      "    <!-- Title and description -->\n",
      "    <title>KoboToolbox </title>\n",
      "    <meta name=\"description\" content=\"KoboToolbox is a free toolkit for collecting and managing data in challenging environments and is the most widely-used tool in humanitarian emergencies\">\n",
      "\n",
      "    <!-- Icons -->\n",
      "    <link rel=\"icon\" href=\"/static/favicon.png\" />\n",
      "    <link rel=\"apple-touch-icon\" href=\"/static/apple-touch-icon.png\" />\n",
      "    <link rel=\"manifest\" href=\"/static/site.webmanifest\" />\n",
      "    <link rel=\"mask-icon\" href=\"/static/safari-pinned-tab.svg\" color=\"#2095f3\" />\n",
      "\n",
      "    <!-- Scripts -->\n",
      "    <!-- Make Django's internationalization functionality available in client code. -->\n",
      "    <script src=\"/jsi18n/\"></script>\n",
      "    <script src=\"/static/js/global_t.js\"></script>\n",
      "    \n",
      "  <script src=\"/static/compiled/vendors-5016c34c3a72d4c608da.js\" ></script>\n",
      "<script src=\"/static/compiled/app-cf1623063929129eaba4.js\" ></script>\n",
      "\n",
      "\n",
      "    <!-- Stylesheets -->\n",
      "    \n",
      "  \n",
      "\n",
      "\n",
      "    \n",
      "  </head>\n",
      "\n",
      "  <body>\n",
      "    \n",
      "  <div class=\"registration__bg\">\n",
      "    \n",
      "\n",
      "    \n",
      "  <form class='registration registration--login'>\n",
      "    <h1>\n",
      "      Page not found (404)\n",
      "    </h1>\n",
      "\n",
      "    This page does not exist on the server. Please check the URL or link that sent you here.\n",
      "\n",
      "    <a href=\"javascript: history.back()\">Go back</a>\n",
      "  </form>\n",
      "\n",
      "\n",
      "    \n",
      "\n",
      "    <div class=\"registration__footer\">\n",
      "      \n",
      "        \n",
      "      \n",
      "    </div>\n",
      "  </div>\n",
      "\n",
      "  \n",
      "\n",
      "  \n",
      "    <!-- Google tag (gtag.js) -->\n",
      "    <script async src=\"https://www.googletagmanager.com/gtag/js?id=G-1QZ9G71E3K\"></script>\n",
      "    <!-- The rest of the setup is in main.js file -->\n",
      "  \n",
      "\n",
      "  </body>\n",
      "</html>\n",
      "\n"
     ]
    },
    {
     "data": {
      "text/plain": [
       "False"
      ]
     },
     "execution_count": 17,
     "metadata": {},
     "output_type": "execute_result"
    }
   ],
   "source": [
    "def test_kobo_setup():\n",
    "    \"\"\"Test your KoBo setup step by step\"\"\"\n",
    "    print(\"🔍 Testing KoBo API Setup...\")\n",
    "    \n",
    "    # Step 1: Check environment\n",
    "    import os\n",
    "    token = os.getenv('KOBO_TOKEN')\n",
    "    url = os.getenv('KOBO_URL', 'https://kf.kobotoolbox.org')\n",
    "    \n",
    "    print(f\"✓ Server URL: {url}\")\n",
    "    print(f\"✓ Token present: {'Yes' if token else 'No'}\")\n",
    "    \n",
    "    if not token:\n",
    "        print(\"❌ No token found! Set KOBO_TOKEN environment variable\")\n",
    "        return False\n",
    "    \n",
    "    # Step 2: Test simple request\n",
    "    import requests\n",
    "    try:\n",
    "        response = requests.get(\n",
    "            f\"{url}/api/v2/me/\",\n",
    "            headers={'Authorization': f'Token {token}'},\n",
    "            timeout=10\n",
    "        )\n",
    "        print(f\"✓ API Response: {response.status_code}\")\n",
    "        \n",
    "        if response.status_code == 200:\n",
    "            user_info = response.json()\n",
    "            print(f\"🎉 Success! Logged in as: {user_info.get('username')}\")\n",
    "            return True\n",
    "        else:\n",
    "            print(f\"❌ Failed: {response.text}\")\n",
    "            return False\n",
    "            \n",
    "    except Exception as e:\n",
    "        print(f\"❌ Error: {str(e)}\")\n",
    "        return False\n",
    "\n",
    "# Run the test\n",
    "test_kobo_setup()\n"
   ]
  },
  {
   "cell_type": "code",
   "execution_count": null,
   "id": "deec1b48",
   "metadata": {},
   "outputs": [],
   "source": [
    "# This CALLS the function because __init__ runs _validate_auth()\n",
    "\n",
    "from dotenv import load_dotenv\n",
    "load_dotenv()  # This loads your .env file\n",
    "client = SecureKoboClient()\n"
   ]
  }
 ],
 "metadata": {
  "kernelspec": {
   "display_name": "mapeos-comunitarios-py3.11",
   "language": "python",
   "name": "python3"
  },
  "language_info": {
   "codemirror_mode": {
    "name": "ipython",
    "version": 3
   },
   "file_extension": ".py",
   "mimetype": "text/x-python",
   "name": "python",
   "nbconvert_exporter": "python",
   "pygments_lexer": "ipython3",
   "version": "3.11.13"
  }
 },
 "nbformat": 4,
 "nbformat_minor": 5
}
