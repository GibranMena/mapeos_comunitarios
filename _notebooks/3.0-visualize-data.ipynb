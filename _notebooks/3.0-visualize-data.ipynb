{
 "cells": [
  {
   "cell_type": "code",
   "execution_count": 4,
   "id": "59df4cdd",
   "metadata": {},
   "outputs": [
    {
     "name": "stdout",
     "output_type": "stream",
     "text": [
      "Working directory set to: /Users/allegratuvida/Desktop/escritorio/data_critica_2025/Proyectos en desarrollo/Mapeos comunitarios/mapeos_comunitarios\n"
     ]
    }
   ],
   "source": [
    "#Fixing absolute and relative paths for folders and notebooks\n",
    "\n",
    "import os\n",
    "from pathlib import Path\n",
    "\n",
    "if Path.cwd().name == '_notebooks':\n",
    "    os.chdir('..')  # Go to project root\n",
    "elif not (Path.cwd() / '__notebooks').exists():\n",
    "    # Find and change to project root\n",
    "    for parent in Path.cwd().parents:\n",
    "        if (parent / 'notebooks').exists():\n",
    "            os.chdir(parent)\n",
    "            break\n",
    "\n",
    "print(f\"Working directory set to: {Path.cwd()}\")"
   ]
  },
  {
   "cell_type": "code",
   "execution_count": null,
   "id": "32cb71fe",
   "metadata": {},
   "outputs": [],
   "source": [
    "import folium\n",
    "from folium.features import CustomIcon\n",
    "from IPython.display import display\n",
    "import requests\n",
    "\n",
    "# 1. Select a background map (OpenStreetMap by default)\n",
    "map_center = resistencias_df['_geolocation'].dropna().apply(lambda x: x if isinstance(x, list) and len(x) == 2 else None).dropna().tolist()\n",
    "if map_center:\n",
    "    avg_lat = sum([loc[0] for loc in map_center]) / len(map_center)\n",
    "    avg_lon = sum([loc[1] for loc in map_center]) / len(map_center)\n",
    "else:\n",
    "    avg_lat, avg_lon = 19.4326, -99.1332  # Default to Mexico City\n",
    "\n",
    "m = folium.Map(location=[avg_lat, avg_lon], zoom_start=6, tiles='OpenStreetMap')\n",
    "\n",
    "# 2. Define a custom icon (can be replaced with a local or web image)\n",
    "icon_url = 'https://cdn-icons-png.flaticon.com/512/684/684908.png'  # Example icon\n",
    "\n",
    "# 3. Add markers with popups\n",
    "for idx, row in resistencias_df.iterrows():\n",
    "    geo = row.get('_geolocation')\n",
    "    if not (isinstance(geo, list) and len(geo) == 2 and all(isinstance(x, (float, int)) for x in geo)):\n",
    "        continue\n",
    "    lat, lon = geo\n",
    "    # Retrieve image from Kobo asset if available\n",
    "    image_url = row.get('A_ade_la_primera_foto_que_ilus', None)\n",
    "    image_html = ''\n",
    "    if image_url:\n",
    "        # Kobo media URLs are usually relative, you may need to prepend the server URL\n",
    "        if not image_url.startswith('http'):\n",
    "            image_url = f\"https://eu.kobotoolbox.org/media/original?media_file={image_url}\"\n",
    "        image_html = f'<br><img src=\"{image_url}\" width=\"200\">'\n",
    "    # Prepare popup HTML\n",
    "    popup_html = f\"\"\"\n",
    "    <b>{row.get('_Cu_l_es_el_nombre_d_ue_quieres_registrar', '')}</b><br>\n",
    "    Fecha: {row.get('Selecciona_la_fecha_resistencia_en_2021', '')}<br>\n",
    "    Pueblo/Colección: {row.get('_A_qu_pueblo_o_cole_cci_n_en_resistencia', '')}<br>\n",
    "    Descripción: {row.get('Describe_en_un_p_rra_lo_m_s_breve_posible', '')}<br>\n",
    "    {image_html}\n",
    "    \"\"\"\n",
    "    icon = CustomIcon(icon_url, icon_size=(30, 30))\n",
    "    folium.Marker(\n",
    "        location=[lat, lon],\n",
    "        icon=icon,\n",
    "        popup=folium.Popup(popup_html, max_width=300)\n",
    "    ).add_to(m)\n",
    "\n",
    "# 4. Display the map\n",
    "m"
   ]
  }
 ],
 "metadata": {
  "kernelspec": {
   "display_name": "mapeos-comunitarios-py3.11",
   "language": "python",
   "name": "python3"
  },
  "language_info": {
   "codemirror_mode": {
    "name": "ipython",
    "version": 3
   },
   "file_extension": ".py",
   "mimetype": "text/x-python",
   "name": "python",
   "nbconvert_exporter": "python",
   "pygments_lexer": "ipython3",
   "version": "3.11.13"
  }
 },
 "nbformat": 4,
 "nbformat_minor": 5
}
